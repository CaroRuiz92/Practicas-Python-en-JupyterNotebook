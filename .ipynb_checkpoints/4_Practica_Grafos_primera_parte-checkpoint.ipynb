{
 "cells": [
  {
   "cell_type": "markdown",
   "metadata": {
    "id": "xRzmphr2hMR2"
   },
   "source": [
    "## Representación de Grafos\n",
    "\n",
    "Una forma posible de implementar el TAD Grafo (no es la única) es guardar una lista de los vértices y un diccionario que especifique, para vértice, una lista de sus vecinos. A continuación mostramos una implementación incompleta y un ejemplo de uso:"
   ]
  },
  {
   "cell_type": "code",
   "execution_count": 1,
   "metadata": {
    "colab": {
     "base_uri": "https://localhost:8080/"
    },
    "id": "hEfPR9kXhG8Y",
    "outputId": "79cfca03-cf74-45ca-f22e-8424a2c206ba"
   },
   "outputs": [
    {
     "name": "stdout",
     "output_type": "stream",
     "text": [
      "Vértices: ['A', 'B', 'C']\n",
      "Vecinos de A: ['B', 'C']\n",
      "Vecinos de B: ['A', 'C']\n",
      "Vecinos de C: ['B', 'A']\n"
     ]
    }
   ],
   "source": [
    "from typing import Any\n",
    "\n",
    "class Grafo:\n",
    "  def __init__(self) -> None:\n",
    "    self.vertices = []\n",
    "    self.vecinos = {}\n",
    "\n",
    "  def add_node(self, vertice: Any) -> None:\n",
    "    # O(1)\n",
    "    self.vertices.append(vertice)\n",
    "    self.vecinos[vertice] = []\n",
    "\n",
    "  def add_edge(self, vertice1: Any, vertice2: Any) -> None:\n",
    "    # O(1)\n",
    "    self.vecinos[vertice1].append(vertice2)\n",
    "    self.vecinos[vertice2].append(vertice1)\n",
    "\n",
    "  def get_adjacent(self, vertice: Any) -> Any:\n",
    "    # O(1)\n",
    "    return self.vecinos[vertice]\n",
    "\n",
    "  def get_nodes(self) -> list[Any]:\n",
    "    # O(1)\n",
    "    return self.vertices\n",
    "\n",
    "# Ejemplo de uso\n",
    "grafo = Grafo()\n",
    "\n",
    "grafo.add_node(\"A\")\n",
    "grafo.add_node(\"B\")\n",
    "grafo.add_node(\"C\")\n",
    "\n",
    "grafo.add_edge(\"A\", \"B\")\n",
    "grafo.add_edge(\"B\", \"C\")\n",
    "grafo.add_edge(\"C\", \"A\")\n",
    "\n",
    "print(\"Vértices:\", grafo.get_nodes())\n",
    "print(\"Vecinos de A:\", grafo.get_adjacent(\"A\"))\n",
    "print(\"Vecinos de B:\", grafo.get_adjacent(\"B\"))\n",
    "print(\"Vecinos de C:\", grafo.get_adjacent(\"C\"))\n"
   ]
  },
  {
   "cell_type": "markdown",
   "metadata": {
    "id": "-YjArxlem77d"
   },
   "source": [
    "**Ejercicio 1** Completar la implementación agregando los siguientes métodos:\n",
    "\n",
    "- `remove_node(x)`: Remueve el nodo x del grafo\n",
    "- `remove_edge(x, y)`: Remueve la arista entre el nodo x y el nodo y (si existe).\n",
    "- `are_adjacent(x, y)`: Devuelve True si x e y son adyacentes, False en caso contrario.\n",
    "- `is_node(x)`: Devuelve True si x es un nodo del grafo, False en caso contrario.\n",
    "\n",
    "Estime la complejidad temporal de cada una de las operaciones en función de la cantidad de vértices del grafo."
   ]
  },
  {
   "cell_type": "code",
   "execution_count": 13,
   "metadata": {},
   "outputs": [
    {
     "name": "stdout",
     "output_type": "stream",
     "text": [
      "['A', 'B', 'C']\n",
      "False\n"
     ]
    }
   ],
   "source": [
    "class nuevo_grafo(Grafo):\n",
    "    def remove_node(self, nodo):\n",
    "        self.vertices.remove(nodo)\n",
    "        self.vecinos.pop(nodo)\n",
    "        for clave, valores in self.vecinos.items():\n",
    "            self.vecinos[clave] = [v for v in valores if v != nodo]\n",
    "            # saltea para cada clave, el valor a eliminar\n",
    "    def remove_edge(self, x, y):\n",
    "        for clave, valores in self.vecinos.items():\n",
    "            if clave == x:\n",
    "                self.vecinos[x].remove(y)\n",
    "            if clave == y:\n",
    "                self.vecinos[y].remove(x)\n",
    "    def are_adjacent(self, x, y):\n",
    "        for clave, valores in self.vecinos.items():\n",
    "            if clave == x and y in self.vecinos[x]:\n",
    "                return True\n",
    "            else:\n",
    "                return False\n",
    "    def is_node(self, x):\n",
    "        return x in self.vertices\n",
    "\n",
    "# EJEMPLO: \n",
    "grafo1 = nuevo_grafo()\n",
    "\n",
    "grafo1.add_node(\"A\")\n",
    "grafo1.add_node(\"B\")\n",
    "grafo1.add_node(\"C\")\n",
    "\n",
    "grafo1.add_edge(\"A\", \"B\")\n",
    "grafo1.add_edge(\"B\", \"C\")\n",
    "grafo1.add_edge(\"C\", \"A\")\n",
    "\n",
    "#grafo1.remove_node(\"C\")\n",
    "print(grafo1.get_nodes())\n",
    "#grafo1.remove_edge(\"A\", \"C\")\n",
    "#print(grafo1.get_adjacent(\"A\"))\n",
    "#print(grafo1.get_adjacent(\"C\"))\n",
    "#print(grafo1.are_adjacent(\"A\", \"C\"))\n",
    "print(grafo1.is_node(\"D\"))"
   ]
  },
  {
   "cell_type": "markdown",
   "metadata": {
    "id": "ZXggeOL2pdmf"
   },
   "source": [
    "**Ejercicio 2** Escriba una función `get_edges(G)` que reciba un grafo y devuelva una lista de las aristas del grafo. Tenga cuidado de no repetir aristas."
   ]
  },
  {
   "cell_type": "code",
   "execution_count": 7,
   "metadata": {},
   "outputs": [
    {
     "name": "stdout",
     "output_type": "stream",
     "text": [
      "dict_items([('A', ['B', 'C']), ('B', ['A', 'C']), ('C', ['B', 'A'])])\n"
     ]
    }
   ],
   "source": [
    "def get_edges(G):\n",
    "    return G.vecinos.items()\n",
    "\n",
    "grafo2 = nuevo_grafo()\n",
    "\n",
    "grafo2.add_node(\"A\")\n",
    "grafo2.add_node(\"B\")\n",
    "grafo2.add_node(\"C\")\n",
    "\n",
    "grafo2.add_edge(\"A\", \"B\")\n",
    "grafo2.add_edge(\"B\", \"C\")\n",
    "grafo2.add_edge(\"C\", \"A\")\n",
    "\n",
    "print(get_edges(grafo2)) #rever"
   ]
  },
  {
   "cell_type": "markdown",
   "metadata": {
    "id": "OyxT5pMdoyoW"
   },
   "source": [
    "**Ejercicio 3** Escriba una función `is_subgraph(G, G')` que decida si G' es subgrafo de G."
   ]
  },
  {
   "cell_type": "code",
   "execution_count": 9,
   "metadata": {},
   "outputs": [
    {
     "name": "stdout",
     "output_type": "stream",
     "text": [
      "False\n"
     ]
    }
   ],
   "source": [
    "def is_subgraph(g,h):\n",
    "    vert_g = g.vertices\n",
    "    aris_g = list(g.vecinos.items())\n",
    "    vert_h = h.vertices\n",
    "    aris_h = list(h.vecinos.items())\n",
    "    \n",
    "    vert_coinc = []\n",
    "    aris_coinc = []\n",
    "    for ver in vert_h:\n",
    "        if ver in vert_g:\n",
    "            vert_coinc.append(ver)\n",
    "    for aris in aris_h:\n",
    "        if aris in aris_g:\n",
    "            aris_coinc.append(aris)\n",
    "    if vert_coinc != [] and aris_coinc != []:\n",
    "        return True\n",
    "    else:\n",
    "        return False\n",
    "\n",
    "grafo3 = nuevo_grafo()\n",
    "\n",
    "grafo2.add_node(\"E\")\n",
    "grafo2.add_node(\"F\")\n",
    "grafo2.add_node(\"G\")\n",
    "\n",
    "grafo2.add_edge(\"E\", \"F\")\n",
    "grafo2.add_edge(\"F\", \"G\")\n",
    "grafo2.add_edge(\"G\", \"E\")\n",
    "\n",
    "print(is_subgraph(grafo1,grafo3))"
   ]
  },
  {
   "cell_type": "markdown",
   "metadata": {
    "id": "1eYVLM66uTPI"
   },
   "source": [
    "**Ejercicio 4** Escriba una función `induce(G, U)` que recibe un grafo G y una lista de vértices U y devuelva el grafo inducido en G por el conjunto U."
   ]
  },
  {
   "cell_type": "code",
   "execution_count": 11,
   "metadata": {},
   "outputs": [
    {
     "name": "stdout",
     "output_type": "stream",
     "text": [
      "Las aristas del grafo inducido son: {'E': ['G', 'F'], 'F': ['G', 'E'], 'G': ['F', 'E']}\n"
     ]
    }
   ],
   "source": [
    "def induce(G, U):\n",
    "    vert_G = G.vertices\n",
    "    aris_G = list(G.vecinos.items())\n",
    "    grafo_final = nuevo_grafo()\n",
    "\n",
    "    #se definen los vertices del grafo inducido (sin vecinos definidos)\n",
    "    for vert in U:\n",
    "        grafo_final.add_node(vert)\n",
    "    \n",
    "    # se buscan las aristas relacionadas a los vertices anteriores\n",
    "    for aris in aris_G: # se trabaja sobre cada tupla\n",
    "        if aris[0] in grafo_final.vertices:\n",
    "            grafo_final.add_edge(aris[1][0], aris[1][1])\n",
    "    return grafo_final.vecinos\n",
    "                \n",
    "\n",
    "u = [\"E\", \"F\", \"G\"]\n",
    "print(\"Las aristas del grafo inducido son:\", induce(grafo2, u))"
   ]
  },
  {
   "cell_type": "markdown",
   "metadata": {
    "id": "yMkZsVpE3qFs"
   },
   "source": [
    "**Ejercicio 5** Implemente el método `__eq__` para grafos para permitir comparar por igualdad. Dos grafos son iguales si tienen."
   ]
  },
  {
   "cell_type": "code",
   "execution_count": 17,
   "metadata": {},
   "outputs": [
    {
     "name": "stdout",
     "output_type": "stream",
     "text": [
      "True\n"
     ]
    }
   ],
   "source": [
    "class nuevo_grafo(Grafo):\n",
    "    def remove_node(self, nodo):\n",
    "        self.vertices.remove(nodo)\n",
    "        self.vecinos.pop(nodo)\n",
    "        for clave, valores in self.vecinos.items():\n",
    "            self.vecinos[clave] = [v for v in valores if v != nodo]\n",
    "            # saltea para cada clave, el valor a eliminar\n",
    "    def remove_edge(self, x, y):\n",
    "        for clave, valores in self.vecinos.items():\n",
    "            if clave == x:\n",
    "                self.vecinos[x].remove(y)\n",
    "            if clave == y:\n",
    "                self.vecinos[y].remove(x)\n",
    "    def are_adjacent(self, x, y):\n",
    "        for clave, valores in self.vecinos.items():\n",
    "            if clave == x and y in self.vecinos[x]:\n",
    "                return True\n",
    "            else:\n",
    "                return False\n",
    "    def is_node(self, x):\n",
    "        return x in self.vertices\n",
    "    def __eq__(self, other_graph):\n",
    "        return (self.vertices == other_graph.vertices and self.vecinos == other_graph.vecinos)\n",
    "\n",
    "grafo4 = nuevo_grafo()\n",
    "grafo5 = nuevo_grafo()\n",
    "\n",
    "grafo4.add_node(\"E\")\n",
    "grafo4.add_node(\"F\")\n",
    "grafo4.add_node(\"G\")\n",
    "grafo4.add_edge(\"E\", \"F\")\n",
    "grafo4.add_edge(\"F\", \"G\")\n",
    "grafo4.add_edge(\"G\", \"E\")\n",
    "\n",
    "grafo5.add_node(\"E\")\n",
    "grafo5.add_node(\"F\")\n",
    "grafo5.add_node(\"G\")\n",
    "grafo5.add_edge(\"E\", \"F\")\n",
    "grafo5.add_edge(\"F\", \"G\")\n",
    "grafo5.add_edge(\"G\", \"E\")\n",
    "\n",
    "print(grafo4 == grafo5)"
   ]
  },
  {
   "cell_type": "markdown",
   "metadata": {
    "id": "CyKCrofT2kw4"
   },
   "source": [
    "**Ejercicio 6** Escriba una función `is_induced_subgraph(G, G')` que decida si G' es subgrafo inducido por algun conjunto de vértices."
   ]
  },
  {
   "cell_type": "code",
   "execution_count": null,
   "metadata": {},
   "outputs": [],
   "source": []
  },
  {
   "cell_type": "markdown",
   "metadata": {
    "id": "qKsqBdnFO79Y"
   },
   "source": [
    "**Ejercicio 7** Escriba una función `is_complete(G)` que decida si G es el grafo completo."
   ]
  },
  {
   "cell_type": "markdown",
   "metadata": {
    "id": "ekZEMqZm7Nwf"
   },
   "source": [
    "**Ejericio 8** Dado un grafo  $G = (V, E)$, una **clique** es un subconjunto de vértices $ C ⊆ E$ tal que todos los vértices de C son adyacentes entre sí. En otras palabras, una clique es un subgrafo en el que cada vértice está conectado a todos los demás vértices del subgrafo. Esto equivale a decir que el subgrafo de G inducido por C es un grafo completo.\n",
    "\n",
    "El **tamaño** de un clique es el número de vértices que contiene.\n",
    "\n",
    "Dar una función `has_clique(G, k)` que decida si un grafo G tiene una clique de al menos k elementos.\n",
    "\n",
    "**Ayuda** Defina primera una función `subsets_of_size_k` que, dada una lista y un entero positivo k, devuelva una lista con todas las posibles listas de tamaño k  \n"
   ]
  },
  {
   "cell_type": "markdown",
   "metadata": {
    "id": "h2I-Lp9OGKP4"
   },
   "source": [
    "**Ejercicio 9** El *complemento* de un grafo G = (V, E) es un grafo G' = (V, E') que contiene exactamente los mismos vértices y los vértices v y w estan conectados si y solo si no lo están en V.\n",
    "\n",
    "Defina una funcion `complement(G)` que dado un grafo G, devuelva el grafo complementario a G. La función debe ser pura, es decir, no debe modificar el grafo original."
   ]
  }
 ],
 "metadata": {
  "colab": {
   "provenance": []
  },
  "kernelspec": {
   "display_name": "Python 3 (ipykernel)",
   "language": "python",
   "name": "python3"
  },
  "language_info": {
   "codemirror_mode": {
    "name": "ipython",
    "version": 3
   },
   "file_extension": ".py",
   "mimetype": "text/x-python",
   "name": "python",
   "nbconvert_exporter": "python",
   "pygments_lexer": "ipython3",
   "version": "3.11.5"
  }
 },
 "nbformat": 4,
 "nbformat_minor": 4
}

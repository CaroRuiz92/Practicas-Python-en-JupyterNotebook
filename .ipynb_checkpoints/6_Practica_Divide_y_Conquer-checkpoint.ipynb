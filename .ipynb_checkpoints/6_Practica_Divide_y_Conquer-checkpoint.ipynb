{
 "cells": [
  {
   "cell_type": "markdown",
   "metadata": {
    "id": "7u24cwGnQTGB"
   },
   "source": [
    "# Práctica 6: Estrategias de Algoritmos"
   ]
  },
  {
   "cell_type": "markdown",
   "metadata": {
    "id": "yZhlNVB22dag"
   },
   "source": [
    "# Divide & Conquer"
   ]
  },
  {
   "cell_type": "markdown",
   "metadata": {
    "id": "iI58WR_F2nvO"
   },
   "source": [
    "Para resolver esta práctica, considere la estructura de solución enseñada en la materia. Recordar que la estructura no siempre resolverá el problema tal cuál está presentada."
   ]
  },
  {
   "cell_type": "code",
   "execution_count": null,
   "metadata": {
    "id": "HKG-LMqd2nvP"
   },
   "outputs": [],
   "source": [
    "def es_caso_base(problema: \"Problema\") -> bool:\n",
    "  pass\n",
    "\n",
    "def resolver_caso_base(problema: \"Problema\") -> \"Solución\":\n",
    "  pass\n",
    "\n",
    "def dividir(problema: \"Problema\") -> \"(Problema, Problema)\":\n",
    "  pass\n",
    "\n",
    "def combinar(s1: \"Solución\", s2: \"Solución\") -> \"Solución\":\n",
    "  pass\n",
    "\n",
    "def resolver(problema: \"Problema\") -> \"Solución\":\n",
    "  pass"
   ]
  },
  {
   "cell_type": "markdown",
   "metadata": {
    "id": "rG_h_vvsYwQd"
   },
   "source": [
    "**Ejercicio 1** Implemente un algoritmo Divide y Vencerás que calcule la suma de los numeros en una lista"
   ]
  },
  {
   "cell_type": "code",
   "execution_count": 1,
   "metadata": {},
   "outputs": [
    {
     "data": {
      "text/plain": [
       "10"
      ]
     },
     "execution_count": 1,
     "metadata": {},
     "output_type": "execute_result"
    }
   ],
   "source": [
    "def es_caso(lista):\n",
    "    return len(lista) == 1\n",
    "\n",
    "def resolver_caso(lista):\n",
    "    return lista[0]\n",
    "\n",
    "def dividir(lista):\n",
    "    mit = len(lista)//2\n",
    "    a = lista[:mit]\n",
    "    b = lista[mit:]\n",
    "    return (a, b)\n",
    "\n",
    "def combinar(sub1, sub2):\n",
    "    return sub1 + sub2\n",
    "\n",
    "def suma_dyv(lista):\n",
    "    if es_caso(lista):\n",
    "        return resolver_caso(lista)\n",
    "    sub1, sub2 = dividir(lista)\n",
    "    sol1 = suma_dyv(sub1)\n",
    "    sol2 = suma_dyv(sub2)\n",
    "    resp = combinar(sol1, sol2)\n",
    "    return resp\n",
    "\n",
    "list = [1,2,3,4]\n",
    "suma_dyv(list)"
   ]
  },
  {
   "cell_type": "markdown",
   "metadata": {
    "id": "A0m0PrNLFaCd"
   },
   "source": [
    "**Ejercicio 2**  Implemente un algoritmo Divide y Vencerás que determine si un número $n$ (fijo) se encuentra o no en una lista NO ordenada de números."
   ]
  },
  {
   "cell_type": "code",
   "execution_count": 3,
   "metadata": {},
   "outputs": [
    {
     "data": {
      "text/plain": [
       "True"
      ]
     },
     "execution_count": 3,
     "metadata": {},
     "output_type": "execute_result"
    }
   ],
   "source": [
    "def es_caso(lista):\n",
    "    return len(lista) == 1\n",
    "\n",
    "def resolver_caso(lista, n):\n",
    "    return lista[0] == n\n",
    "\n",
    "def dividir(lista):\n",
    "    mit = len(lista)//2\n",
    "    a = lista[:mit]\n",
    "    b = lista[mit:]\n",
    "    return (a, b)\n",
    "\n",
    "def encontrar_n(lista, n):\n",
    "    if es_caso(lista):\n",
    "        return resolver_caso(lista, n)\n",
    "    sub1, sub2 = dividir(lista)\n",
    "    \n",
    "    return encontrar_n(sub1, n) or encontrar_n(sub2, n)\n",
    "\n",
    "list = [1,2,3,4, 5]\n",
    "nro = 2\n",
    "encontrar_n(list, nro)"
   ]
  },
  {
   "cell_type": "markdown",
   "metadata": {
    "id": "KmNNPhdIbhcr"
   },
   "source": [
    "**Ejercicio 3** Dada una lista de números, proponga algoritmos Divide & Conquer para:\n",
    "\n",
    "a. Encontrar el menor elemento de la lista\n",
    "\n",
    "b. Encontrar el mayor elemento de la lista\n",
    "\n",
    "c. Encontrar el menor y el mayor elemento de la lista"
   ]
  },
  {
   "cell_type": "code",
   "execution_count": 5,
   "metadata": {},
   "outputs": [
    {
     "data": {
      "text/plain": [
       "0"
      ]
     },
     "execution_count": 5,
     "metadata": {},
     "output_type": "execute_result"
    }
   ],
   "source": [
    "#A\n",
    "\n",
    "def es_caso(lista):\n",
    "    return len(lista) == 1\n",
    "\n",
    "def resolver_caso(lista):\n",
    "    return lista[0]\n",
    "\n",
    "def dividir(lista):\n",
    "    mit = len(lista)//2\n",
    "    a = lista[:mit]\n",
    "    b = lista[mit:]\n",
    "    return (a, b)\n",
    "\n",
    "def combinar_min(s1, s2):\n",
    "    return min(s1, s2)\n",
    "\n",
    "def minimo(lista):\n",
    "    if es_caso(lista):\n",
    "        return resolver_caso(lista)\n",
    "    sub1, sub2 = dividir(lista)\n",
    "    sol1 = minimo(sub1)\n",
    "    sol2 = minimo(sub2)\n",
    "    resp = combinar_min(sol1, sol2)\n",
    "    return resp\n",
    "\n",
    "list = [2, 7, 6, 4, 0]\n",
    "minimo(list)"
   ]
  },
  {
   "cell_type": "code",
   "execution_count": 7,
   "metadata": {},
   "outputs": [
    {
     "data": {
      "text/plain": [
       "7"
      ]
     },
     "execution_count": 7,
     "metadata": {},
     "output_type": "execute_result"
    }
   ],
   "source": [
    "# B\n",
    "\n",
    "def combinar_max(s1, s2):\n",
    "    return max(s1, s2)\n",
    "\n",
    "def maximo(lista):\n",
    "    if es_caso(lista):\n",
    "        return resolver_caso(lista)\n",
    "    sub1, sub2 = dividir(lista)\n",
    "    sol1 = maximo(sub1)\n",
    "    sol2 = maximo(sub2)\n",
    "    resp = combinar_max(sol1, sol2)\n",
    "    return resp\n",
    "\n",
    "maximo(list)"
   ]
  },
  {
   "cell_type": "code",
   "execution_count": 9,
   "metadata": {},
   "outputs": [
    {
     "data": {
      "text/plain": [
       "[1, 9]"
      ]
     },
     "execution_count": 9,
     "metadata": {},
     "output_type": "execute_result"
    }
   ],
   "source": [
    "# C\n",
    "\n",
    "def es_caso(lista):\n",
    "    return len(lista) == 1\n",
    "\n",
    "def resolver_caso_mm(lista):\n",
    "    return [lista[0], lista[0]]\n",
    "\n",
    "def dividir(lista):\n",
    "    mit = len(lista)//2\n",
    "    a = lista[:mit]\n",
    "    b = lista[mit:]\n",
    "    return (a, b)\n",
    "\n",
    "def combinar_mm(s1, s2):\n",
    "    return [min(s1[0], s2[0]), max(s1[1], s2[1])]\n",
    "\n",
    "def min_max(lista):\n",
    "    if es_caso(lista):\n",
    "        return resolver_caso_mm(lista)\n",
    "    sub1, sub2 = dividir(lista)\n",
    "    sol1 = min_max(sub1)\n",
    "    sol2 = min_max(sub2)\n",
    "    resp = combinar_mm(sol1, sol2)\n",
    "    return resp\n",
    "    \n",
    "\n",
    "lista = [1, 5, 7, 9, 2, 4]\n",
    "\"\"\"\n",
    "[1, 5, 7] [9, 2, 4]\n",
    "[1, 7] [2, 9]\n",
    "min(1, 2) max(7, 9)\n",
    "[1, 9]\n",
    "\"\"\"\n",
    "min_max(lista)"
   ]
  },
  {
   "cell_type": "markdown",
   "metadata": {
    "id": "gkfJS7c9dQPf"
   },
   "source": [
    "**Ejercicio 4** Escriba un algoritmo Divide & Conquer para calcular la potencia $b^n$ calculando potencias menores en cada paso. Puede suponer que $n$ es un numero positivo"
   ]
  },
  {
   "cell_type": "code",
   "execution_count": 11,
   "metadata": {},
   "outputs": [
    {
     "data": {
      "text/plain": [
       "729"
      ]
     },
     "execution_count": 11,
     "metadata": {},
     "output_type": "execute_result"
    }
   ],
   "source": [
    "def es_caso(n):\n",
    "    return n == 0\n",
    "\n",
    "def resolver_caso(n):\n",
    "    return 1\n",
    "\n",
    "def dividir(b, n):\n",
    "    if n % 2 == 0:\n",
    "        return (b, n // 2)\n",
    "    else:\n",
    "        return (b, n // 2), (b, n // 2 + 1)\n",
    "\n",
    "def combinar(s1, s2):\n",
    "    return s1 * s2\n",
    "\n",
    "def potencia(b, n):\n",
    "    if es_caso(n):\n",
    "        return resolver_caso(n)\n",
    "    if n == 1:\n",
    "        return b\n",
    "    \n",
    "    if n % 2 == 0:\n",
    "        b, m = dividir(b, n)\n",
    "        sub = potencia(b, m)\n",
    "        return combinar(sub, sub)\n",
    "    else:\n",
    "        (b1, m1), (b2, m2) = dividir(b, n)\n",
    "        sub1 = potencia(b1, m1)\n",
    "        sub2 = potencia(b2, m2)\n",
    "        return combinar(sub1, sub2)\n",
    "\n",
    "potencia(9, 3)"
   ]
  },
  {
   "cell_type": "markdown",
   "metadata": {
    "id": "n1dkqUSoexoa"
   },
   "source": [
    "**Ejercicio 5** De un algoritmo Divide & Conquer para encontrar el número más grande de una lista, y el segundo mas grande. Puede suponer que la lista siempre tiene al menos dos numeros y que los numeros son todos distintos entre si."
   ]
  },
  {
   "cell_type": "markdown",
   "metadata": {
    "id": "IZo4JZJ25gUI"
   },
   "source": [
    "**Ejercicio 6**: Ordenamiento\n",
    "\n",
    "Ordene una lista usando divide y vencerás, para esto preste atención cómo combina dos listas ordenadas para producir una nueva lista ordenada. No utilice ningún método de ordenamiento _builtin_"
   ]
  },
  {
   "cell_type": "code",
   "execution_count": 21,
   "metadata": {},
   "outputs": [
    {
     "data": {
      "text/plain": [
       "[1, 2, 3, 4, 5, 6]"
      ]
     },
     "execution_count": 21,
     "metadata": {},
     "output_type": "execute_result"
    }
   ],
   "source": [
    "def es_caso(lista):\n",
    "    return len(lista) == 1\n",
    "\n",
    "def resolver_caso(lista):\n",
    "    return lista\n",
    "\n",
    "def dividir(lista):\n",
    "    mit = len(lista)//2\n",
    "    a = lista[:mit]\n",
    "    b = lista[mit:]\n",
    "    return (a, b)\n",
    "\n",
    "def combinar(s1, s2):\n",
    "    res = []\n",
    "    i1 = i2 = 0\n",
    "    \n",
    "    while i1 < len(s1) and i2 < len(s2):\n",
    "        if s1[i1] < s2[i2]:\n",
    "            res.append(s1[i1])\n",
    "            i1 += 1\n",
    "        else:\n",
    "            res.append(s2[i2])\n",
    "            i2 += 1\n",
    "    \n",
    "    # Se agrega cualquier elemento restante de s1\n",
    "    while i1 < len(s1):\n",
    "        res.append(s1[i1])\n",
    "        i1 += 1\n",
    "    \n",
    "    # Se agrega cualquier elemento restante de s2\n",
    "    while i2 < len(s2):\n",
    "        res.append(s2[i2])\n",
    "        i2 += 1\n",
    "    \n",
    "    return res\n",
    "\n",
    "def ordenar(lista):\n",
    "    if es_caso(lista):\n",
    "        return resolver_caso(lista)\n",
    "    sub1, sub2 = dividir(lista)\n",
    "    sol1 = ordenar(sub1)\n",
    "    sol2 = ordenar(sub2)\n",
    "    return combinar(sol1, sol2)\n",
    "\n",
    "lista1 = [5, 2, 4, 3, 1, 6]\n",
    "ordenar(lista1)"
   ]
  },
  {
   "cell_type": "markdown",
   "metadata": {
    "id": "SHnfidWe8Ykb"
   },
   "source": [
    "**Ejercicio 7**: Sublista de suma máxima\n",
    "\n",
    "Dada una lista de números, el problema de encontrar la sublista consiste encontrar una sublista contigua de forma tal que la suma de sus elementos sea la maxima posible.\n",
    "\n",
    "Por ejemplo, para la lista [−2, 1, −3, 4, −1, 2, 1, −5, 4], la sublista de suma máxima es: [4, −1, 2, 1], que suma 6. Puede intentar convencerse de esto tomando otras posibles sublistas y notando que la suma siempre es menor o igual.\n",
    "\n",
    "Formalmente, dada una lista $L$ de números enteros, el problema trata sobre encontrar índices $i, j$ con $0 \\le i \\le j \\le n$ de forma tal que la suma\n",
    "\n",
    "$$\n",
    "\\sum_{x=i}^j L[x]\n",
    "$$\n",
    "\n",
    "sea lo mas grande posible.\n",
    "\n",
    "El algoritmo trivial para resolver este problema consiste en recorrer todos los posibles índices $i, j$, calcular la suma correspondiente en cada caso y elegir la máxima. Este algoritmo tiene complejidad temporal cúbica ( $O(n^3)$ ), es decir la cantidad de sumas que hay que resolver crece como una función cúbica del tamaño de la lista de entrada.\n",
    "\n",
    "Sin embargo, utilizando Divide y Vencerás puede resolver este problema con complejidad temporal O(n log(n)) (llamada complejidad subcuadratica).  \n",
    "\n",
    "Para poder lograrlo, necesitará en cada paso, más información que solo la solución final. La llamada recursiva debe devolver, si representamos una sublista como $L[i:j]$:\n",
    "- La suma máxima $L[i:j]$ (la \"solución final\").\n",
    "- La suma total $L[0:n]$\n",
    "- La suma máxima por izquierda $L[0:j']$\n",
    "- La suma máxima por derecha $L[i':n]$\n",
    "\n",
    "\n",
    "Implemente la solución divide y vencerás siguiendo estas ideas."
   ]
  },
  {
   "cell_type": "markdown",
   "metadata": {
    "id": "uVIM7PH3O9eG"
   },
   "source": [
    "**Ejercicio 8** Escriba un algoritmo Divide y Vencerás que tome como entrada una matriz de números (representada en Python como una lista de listas), y un número $n$ y determine cuantas veces aparece el número $n$ en la matriz."
   ]
  },
  {
   "cell_type": "code",
   "execution_count": null,
   "metadata": {},
   "outputs": [],
   "source": []
  },
  {
   "cell_type": "markdown",
   "metadata": {},
   "source": [
    "**Extra: búsqueda binaria común**"
   ]
  },
  {
   "cell_type": "code",
   "execution_count": 13,
   "metadata": {},
   "outputs": [
    {
     "data": {
      "text/plain": [
       "True"
      ]
     },
     "execution_count": 13,
     "metadata": {},
     "output_type": "execute_result"
    }
   ],
   "source": [
    "def es_caso(lista):\n",
    "    return len(lista) == 0 or len(lista) == 1\n",
    "def resolver_caso(lista, n):\n",
    "    if len(lista) == 0:\n",
    "        return False\n",
    "    return lista[0] == n\n",
    "def dividir(lista):\n",
    "    tam = len(lista)//2\n",
    "    a = lista[:tam]\n",
    "    b = lista[tam:]\n",
    "    return (a, b)\n",
    "\n",
    "def busq_bin_dyv(lista, n):\n",
    "    if es_caso(lista):\n",
    "        return resolver_caso(lista, n)\n",
    "    sub1, sub2 = dividir(lista)\n",
    "    \n",
    "    # Decidir mitad\n",
    "    if sub1[-1] >= n:\n",
    "        return busq_bin_dyv(sub1, n)\n",
    "    else:\n",
    "        return busq_bin_dyv(sub2, n)\n",
    "\n",
    "\n",
    "list = [1,2,3,4,5,6]\n",
    "nro = 2\n",
    "busq_bin_dyv(list, nro)"
   ]
  },
  {
   "cell_type": "code",
   "execution_count": null,
   "metadata": {},
   "outputs": [],
   "source": []
  }
 ],
 "metadata": {
  "colab": {
   "provenance": []
  },
  "kernelspec": {
   "display_name": "Python 3 (ipykernel)",
   "language": "python",
   "name": "python3"
  },
  "language_info": {
   "codemirror_mode": {
    "name": "ipython",
    "version": 3
   },
   "file_extension": ".py",
   "mimetype": "text/x-python",
   "name": "python",
   "nbconvert_exporter": "python",
   "pygments_lexer": "ipython3",
   "version": "3.11.5"
  }
 },
 "nbformat": 4,
 "nbformat_minor": 4
}

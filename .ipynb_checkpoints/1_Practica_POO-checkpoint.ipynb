{
 "cells": [
  {
   "cell_type": "markdown",
   "metadata": {
    "id": "j3sTF5h-XSAK"
   },
   "source": [
    "# Practica 1\n",
    "\n"
   ]
  },
  {
   "cell_type": "markdown",
   "metadata": {
    "id": "GFWY23nf-AeO"
   },
   "source": [
    "La práctica a continuación trata de un sistema de representación del dinero utilizando conceptos de OOP. Definiremos varias clases y relaciones entre ellas. Comenzaremos con la siguiente definición dada:"
   ]
  },
  {
   "cell_type": "code",
   "execution_count": 1,
   "metadata": {
    "id": "wKIbMfkfACDP"
   },
   "outputs": [],
   "source": [
    "class Dinero:\n",
    "  \"\"\"\n",
    "  Concepto abstracto que no deberemos instanciar nunca directamente\n",
    "  \"\"\"\n",
    "\n",
    "  def monto(self) -> float:\n",
    "    \"\"\"\n",
    "    Todo dinero, cualquiera sea su procedencia, debería proveernos\n",
    "    con algún metodo de saber cuál es el monto que este representa.\n",
    "\n",
    "    Este método retorna un flotante con el valor total real que cada\n",
    "    instancia tiene dentro.\n",
    "\n",
    "    Será más claro cuando lo veamos en la práctica.\n",
    "    \"\"\"\n",
    "    pass\n",
    "\n",
    "  def __str__(self) -> str:\n",
    "    \"\"\"\n",
    "    Por completitud, y para corroborar nuestros programas,\n",
    "    nos gustaría que todas las clases que deriven Dinero\n",
    "    tengan alguna forma de representación por pantalla.\n",
    "    \"\"\"\n",
    "    pass"
   ]
  },
  {
   "cell_type": "markdown",
   "metadata": {
    "id": "OZwsVCayAl8U"
   },
   "source": [
    "Notar tres cosas:\n",
    "- falta el método `__init__`\n",
    "- la clase no tiene atributos\n",
    "- los métodos no están implementados\n",
    "\n",
    "¡Esto está hecho a propósito! El dinero es un concepto abstracto que no hace nada, no podemos señalar algo y decir \"Esto es **EL** dinero\", pero sí podemos ver _varias_ cosas que efectivamente son dinero. En nuestros ejemplos, el dinero describirá un conjunto de cosas concretas que sí existen en la vida real, y que sí tendran funcionalidad, como las monedas, los billetes, ¡y hasta las tarjetas!"
   ]
  },
  {
   "cell_type": "markdown",
   "metadata": {
    "id": "wMaaE_nFBqZp"
   },
   "source": [
    "**Ejercicio 1**\n",
    "\n",
    "Implemente una clase Moneda que herede de la clase Dinero, e implemente los dos métodos descritos, respetando lo que los métodos deberían hacer. Escribir un método `__init__` que acepte únicamente construir monedas de \\$1, \\$2 o \\$5. En caso de querer ingresar una denominación distinta, imprimir un mensaje de error.\n",
    "\n",
    "_Ayuda: contamos con un atributo de clase con las posibles denominaciones_"
   ]
  },
  {
   "cell_type": "code",
   "execution_count": 2,
   "metadata": {
    "id": "zqPv4TDuCyOt"
   },
   "outputs": [],
   "source": [
    "class Moneda(Dinero):\n",
    "\n",
    "  Denominaciones = {1, 2, 5}\n",
    "\n",
    "  def __init__(self, denominacion: int) -> None:\n",
    "    if denominacion not in Moneda.Denominaciones:\n",
    "        raise ValueError(\"Denominación no permitida\")\n",
    "    else:\n",
    "        self.denominacion = denominacion\n",
    "\n",
    "  def monto(self) -> float:\n",
    "    return float(self.denominacion)\n",
    "\n",
    "  def __str__(self) -> str:\n",
    "    return f\"Moneda de {self.denominacion}\"\n",
    "  \n",
    "  def __add__(self, *others):\n",
    "        total = self.denominacion\n",
    "        for i in others:\n",
    "            if isinstance(i, Moneda):\n",
    "                total += i.denominacion\n",
    "            else:\n",
    "                raise TypeError(\"Operación no soportada\")\n",
    "        return total"
   ]
  },
  {
   "cell_type": "markdown",
   "metadata": {
    "id": "k5CCWuw2DoVG"
   },
   "source": [
    "**Ejercicio 2**\n",
    "\n",
    "Construir diferentes instancias de Moneda, metiéndolas a todas en una lista y\n",
    "\n",
    "1. Imprimirlas por pantalla\n",
    "2. Sumar su monto total"
   ]
  },
  {
   "cell_type": "code",
   "execution_count": 3,
   "metadata": {},
   "outputs": [
    {
     "data": {
      "text/plain": [
       "8.0"
      ]
     },
     "execution_count": 3,
     "metadata": {},
     "output_type": "execute_result"
    }
   ],
   "source": [
    "mon1 = Moneda(1)\n",
    "mon2 = Moneda(2)\n",
    "mon5 = Moneda(5)\n",
    "\n",
    "lista = [mon1, mon2, mon5]\n",
    "mon1.monto() + mon2.monto() + mon5.monto() #rever"
   ]
  },
  {
   "cell_type": "markdown",
   "metadata": {
    "id": "iYcSpbKHFotU"
   },
   "source": [
    "**Ejercicio 3**\n",
    "\n",
    "Hacer lo mismo que en el Ejercicio 1, pero esta vez con una clase Billete, con posibles denominaciones de 10, 20, 50, 100, 200, 500 y 1000."
   ]
  },
  {
   "cell_type": "code",
   "execution_count": 14,
   "metadata": {},
   "outputs": [],
   "source": [
    "class Billete(Moneda):\n",
    "    \n",
    "    denom_bill = {10, 20, 50, 100, 200, 500, 1000}\n",
    "    \n",
    "    def __init__(self, denom: int) -> None:\n",
    "        if denom not in Billete.denom_bill:\n",
    "            raise ValueError(\"Denominación no permitida\")\n",
    "        else:\n",
    "            self.denom = denom"
   ]
  },
  {
   "cell_type": "markdown",
   "metadata": {
    "id": "yLx-btsZGGPr"
   },
   "source": [
    "**Ejercicio 4**\n",
    "\n",
    "Construir una única lista que contenga tanto monedas como billetes de diferentes denominaciones. Repetir el Ejercicio 2 con esta lista. ¿Hubo que modificar algo?\n",
    "\n"
   ]
  },
  {
   "cell_type": "code",
   "execution_count": 15,
   "metadata": {},
   "outputs": [
    {
     "data": {
      "text/plain": [
       "[<__main__.Moneda at 0x1b5edb12d50>,\n",
       " <__main__.Billete at 0x1b5edb13650>,\n",
       " <__main__.Moneda at 0x1b5edb126d0>,\n",
       " <__main__.Billete at 0x1b5edb13850>]"
      ]
     },
     "execution_count": 15,
     "metadata": {},
     "output_type": "execute_result"
    }
   ],
   "source": [
    "lista = [Moneda(5), Billete(20), Moneda(2), Billete(50)]\n",
    "lista"
   ]
  },
  {
   "cell_type": "markdown",
   "metadata": {
    "id": "iP6TqTBEGtfT"
   },
   "source": [
    "**Ejercicio 5**\n",
    "\n",
    "Escribir funciones `imprimir_dineros` y `sumar_dineros` que implementen las funcionalidades anteriores. Note los tipos que utilizamos para sus argumentos, ambos son válidos, pero uno es más general."
   ]
  },
  {
   "cell_type": "code",
   "execution_count": null,
   "metadata": {
    "id": "ZTrdK1s9Hh7P"
   },
   "outputs": [],
   "source": [
    "def imprimir_dineros(monedas_billetes: list[Moneda | Billete]) -> None:\n",
    "  pass\n",
    "\n",
    "def sumar_dineros(dineros: list[Dinero]) -> float:\n",
    "  pass"
   ]
  },
  {
   "cell_type": "markdown",
   "metadata": {
    "id": "VcHJxYl-ECnN"
   },
   "source": [
    "**Ejercicio 6**\n",
    "\n",
    "Implementar una clase Billetera, que guardará monedas y billetes internamente. En su constructor podremos proveer una lista inicial de monedas y billetes, pero por defecto la billetera estará vacía.\n",
    "\n",
    "_Recomendación: utilizar listas y otras estructuras mutables como parámetros por defecto puede traer problemas inesperados, utilizar algún otro valor como None y hacer un chequeo en el constructor_\n",
    "\n"
   ]
  },
  {
   "cell_type": "markdown",
   "metadata": {
    "id": "BNTYuSxlECni"
   },
   "source": [
    "**Ejercicio 7**\n",
    "\n",
    "Implementar 3 operaciones en la billetera:\n",
    "\n",
    "- `guardar`: que agregará una moneda o billete a la billetera\n",
    "- `buscar`: que dirá si existe alguna moneda o billete con exáctamente la denominación ingresada como parámetro.\n",
    "- `sacar`: que quitará una moneda o billete con exáctamente la denominación ingresada como parámetro.\n",
    "\n",
    "Elegir a gusto personal qué hará `sacar` si falla"
   ]
  },
  {
   "cell_type": "markdown",
   "metadata": {
    "id": "9b-d7avhL9XR"
   },
   "source": [
    "**Ejercicio 8**\n",
    "\n",
    "Dada la siguiente clase Cuenta"
   ]
  },
  {
   "cell_type": "code",
   "execution_count": null,
   "metadata": {
    "id": "e8DEQ5tUMQLx"
   },
   "outputs": [],
   "source": [
    "class Cuenta:\n",
    "\n",
    "  def __init__(self, titular: str, idcta: str):\n",
    "    self.titular = titular\n",
    "    self.idcta = idcta\n",
    "\n",
    "  def __str__(self) -> str:\n",
    "    return f\"Cuenta Bancaria\\nTitular: {self.titular}\\nN°: {self.idcta}\""
   ]
  },
  {
   "cell_type": "markdown",
   "metadata": {
    "id": "Jine6iwdMyMD"
   },
   "source": [
    "Implementar una tarjeta de débito, que puede contar con un monto inicial (por defecto 0), pero no puede irse por debajo de 0 a la hora de restarle un monto. Las tarjetas corresponden a una cuenta, por lo que deberemos proporcionar una cuenta al constructor, y mostrar esta información al imprimir.\n",
    "\n",
    "Implemente los métodos que crea que hagan falta, con los tipos de parámetro y retorno que crea correctos."
   ]
  },
  {
   "cell_type": "markdown",
   "metadata": {
    "id": "gjMxGPGOPV4m"
   },
   "source": [
    "**Ejercicio 9**\n",
    "\n",
    "Escribir una función normal, por fuera de las clases, que reciba una tarjeta de débito fuente, y una de destino, y un monto. La función transferirá el monto de la tarjeta fuente a la destino. Si la transferencia se completa con éxito, devolver `True`, si no se puede realizar, devolver `False`. Probar la función para ver si funciona en ambos casos."
   ]
  },
  {
   "cell_type": "markdown",
   "metadata": {
    "id": "a3o9gfRsLsPU"
   },
   "source": [
    "# Ejercicios Adicionales"
   ]
  },
  {
   "cell_type": "markdown",
   "metadata": {
    "id": "pFYEQm0rEY6L"
   },
   "source": [
    "**Ejercicio 10**\n",
    "\n",
    "Implementar un Cajero Automático, que cuenta con \"infinitos\" billetes y monedas de todas las denominaciones. Implemente todos los métodos que crea necesarios para dicha máquina.\n",
    "\n",
    "_Ayuda: hacer al menos un método para extraer dinero, que retorne una lista de billetes y monedas que sumen cierto monto especificado como argumento_"
   ]
  },
  {
   "cell_type": "markdown",
   "metadata": {
    "id": "ITQUrLJeW1cl"
   },
   "source": [
    "**Ejercicio 11**\n",
    "\n",
    "Definir una función por fuera de clase, que dado un cajero, una tarjeta de débito y una billetera, permita realizar una extracción del cajero y la guarde en la billetera. Si la tarjeta tiene suficiente saldo, retornar `True` y hacer la operación, si no, retornar `False` y no hacer nada."
   ]
  },
  {
   "cell_type": "markdown",
   "metadata": {
    "id": "7dtHVYLrLuGg"
   },
   "source": [
    "**Ejercicio 12**\n",
    "\n",
    "Agregar el método `pagar` a la clase billetera, que dado un monto, devuelva la menor cantidad de billetes y monedas para pagar. La forma en la que lo haremos será utilizando el siguiente algoritmo:\n",
    "\n",
    "- Ordenar todos los billetes y monedas según su valor\n",
    "- Iterar sobre la lista en orden de mayor a menor\n",
    "- Siempre que lleguemos a un billete o moneda menor o igual al monto, la agregamos a una lista resultado y restamos ese valor al monto\n",
    "\n",
    "Si llegamos a monto 0, significa que pudimos pagar todo y retornamos `True`, previamente quitando los billetes y monedas de la billetera con los que vamos a pagar, en otro caso, no podemos pagar con lo junto y retornamos `False`.\n",
    "\n",
    "_Ayuda: pueden crear una nueva clase que herede de Billetera y que implemente el nuevo método._"
   ]
  }
 ],
 "metadata": {
  "colab": {
   "provenance": []
  },
  "kernelspec": {
   "display_name": "Python 3 (ipykernel)",
   "language": "python",
   "name": "python3"
  },
  "language_info": {
   "codemirror_mode": {
    "name": "ipython",
    "version": 3
   },
   "file_extension": ".py",
   "mimetype": "text/x-python",
   "name": "python",
   "nbconvert_exporter": "python",
   "pygments_lexer": "ipython3",
   "version": "3.11.5"
  }
 },
 "nbformat": 4,
 "nbformat_minor": 1
}

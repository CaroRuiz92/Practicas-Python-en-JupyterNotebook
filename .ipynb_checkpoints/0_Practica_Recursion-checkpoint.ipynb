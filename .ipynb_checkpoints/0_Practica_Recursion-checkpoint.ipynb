{
 "cells": [
  {
   "cell_type": "markdown",
   "metadata": {
    "id": "6rxdohV00iKL"
   },
   "source": [
    "# Practica Recursion"
   ]
  },
  {
   "cell_type": "markdown",
   "metadata": {
    "id": "bqQ5hKbTE5xz"
   },
   "source": [
    "**Ejercicio 1**\n",
    "\n",
    "1. Escribir una función recursiva `repite_hola` que reciba como parámetro un número entero $n$ y escriba por pantalla el mensaje \"Hola\" $n$ veces. Invocarla con distintos valores de $n$.\n",
    "\n",
    "2. Escribir otra función `repite_hola` que reciba como parámetro un número entero $n$ y devuelva la cadena formada por $n$ concatenaciones de \"Hola\". Invocarla con distintos valores de $n$"
   ]
  },
  {
   "cell_type": "code",
   "execution_count": 5,
   "metadata": {},
   "outputs": [
    {
     "name": "stdout",
     "output_type": "stream",
     "text": [
      "Hola\n",
      "Hola\n",
      "Hola\n",
      "Hola\n",
      "Hola\n"
     ]
    }
   ],
   "source": [
    "def repite_hola(n):\n",
    "    if n > 0:\n",
    "        print(\"Hola\")\n",
    "        repite_hola(n-1)\n",
    "\n",
    "repite_hola(5)"
   ]
  },
  {
   "cell_type": "code",
   "execution_count": 6,
   "metadata": {},
   "outputs": [
    {
     "data": {
      "text/plain": [
       "'Hola Hola Hola Hola Hola '"
      ]
     },
     "execution_count": 6,
     "metadata": {},
     "output_type": "execute_result"
    }
   ],
   "source": [
    "def repite_hola(n):\n",
    "    return \"Hola \"*n\n",
    "\n",
    "repite_hola(5)"
   ]
  },
  {
   "cell_type": "markdown",
   "metadata": {
    "id": "Nk9iHhz1ic64"
   },
   "source": [
    "**Ejercicio 2**\n",
    "\n",
    "1. Piense cuál sería el resultado de la expresión `misterio(5)` y luego compruebe su hipótesis ejecutándola.\n",
    "\n",
    "2. Explique con sus palabras qué hace `misterio(a)` para cualquier `a`, sea positivo, negativo o 0."
   ]
  },
  {
   "cell_type": "code",
   "execution_count": 12,
   "metadata": {
    "id": "jXGjJWpAioG4"
   },
   "outputs": [
    {
     "data": {
      "text/plain": [
       "5"
      ]
     },
     "execution_count": 12,
     "metadata": {},
     "output_type": "execute_result"
    }
   ],
   "source": [
    "def misterio(a: int) -> int:\n",
    "  if a == 0:\n",
    "    return a\n",
    "\n",
    "  return 1 + misterio(a - 1)\n",
    "\n",
    "\"case base: cuando a es cero, se devuelve el ´a´ ingresado.\"\n",
    "\"parte recursiva: retorna una suma entre 1 y 'a' restado por 1. Cuando se llegue a 1+(-1) se ejecuta el caso base\"\n",
    "\"con negativo no corta, con cero solo se ejecuta el caso base\"\n",
    "\n",
    "misterio(5)"
   ]
  },
  {
   "cell_type": "markdown",
   "metadata": {
    "id": "v6UoSVfAFaZG"
   },
   "source": [
    "**Ejercicio 3**\n",
    "\n",
    "1. Escribir una función `repite_saludo` que reciba como parámetro un número entero $n$ y una cadena saludo y escriba por pantalla el valor de saludo $n$ veces. Invocarla con distintos valores de $n$ y de saludo.\n",
    "\n",
    "2. Escribir otra función `repite_saludo` que reciba como parámetro un número entero $n$ y una cadena saludo devuelva el valor de $n$ concatenaciones de saludo. Invocarla con distintos valores de $n$ y de saludo."
   ]
  },
  {
   "cell_type": "code",
   "execution_count": 17,
   "metadata": {},
   "outputs": [
    {
     "name": "stdout",
     "output_type": "stream",
     "text": [
      "Holis\n",
      "Holis\n",
      "Holis\n",
      "Holis\n",
      "Holis\n"
     ]
    }
   ],
   "source": [
    "def repite_saludo(n: int, saludo: str):\n",
    "    if n > 0:\n",
    "        print(saludo)\n",
    "        repite_saludo(n-1, saludo)\n",
    "\n",
    "repite_saludo(5, \"Holis\")"
   ]
  },
  {
   "cell_type": "code",
   "execution_count": 19,
   "metadata": {},
   "outputs": [
    {
     "data": {
      "text/plain": [
       "'Holis Holis Holis Holis Holis '"
      ]
     },
     "execution_count": 19,
     "metadata": {},
     "output_type": "execute_result"
    }
   ],
   "source": [
    "def repite_saludo(n, saludo):\n",
    "    return (saludo+\" \")*n\n",
    "\n",
    "repite_saludo(5, \"Holis\")"
   ]
  },
  {
   "cell_type": "markdown",
   "metadata": {
    "id": "MgICSXQXEZz5"
   },
   "source": [
    "**Ejercicio 4**\n",
    "\n",
    "Escriba una funcion recursiva que tome un numero natural n e imprima todos los numeros desde n hasta 1."
   ]
  },
  {
   "cell_type": "code",
   "execution_count": 20,
   "metadata": {},
   "outputs": [
    {
     "name": "stdout",
     "output_type": "stream",
     "text": [
      "5\n",
      "4\n",
      "3\n",
      "2\n",
      "1\n"
     ]
    }
   ],
   "source": [
    "def imprimir_numeros(n):\n",
    "    if n >= 1:\n",
    "        print(n)\n",
    "        imprimir_numeros(n-1)\n",
    "\n",
    "imprimir_numeros(5)"
   ]
  },
  {
   "cell_type": "markdown",
   "metadata": {
    "id": "Z7TjLxx3jaAM"
   },
   "source": [
    "**Ejercicio 5**\n",
    "\n",
    "Convierta la siguiente función recursiva a una iterativa."
   ]
  },
  {
   "cell_type": "code",
   "execution_count": 1,
   "metadata": {
    "id": "nRIkRomhj-kv"
   },
   "outputs": [
    {
     "data": {
      "text/plain": [
       "16"
      ]
     },
     "execution_count": 1,
     "metadata": {},
     "output_type": "execute_result"
    }
   ],
   "source": [
    "def recursiva(t: int, k: int) -> int:\n",
    "  if t >= 100:\n",
    "    return k\n",
    "  else:\n",
    "    return recursiva(t + k, k + 1)\n",
    "\n",
    "recursiva(1,5)"
   ]
  },
  {
   "cell_type": "code",
   "execution_count": 7,
   "metadata": {},
   "outputs": [
    {
     "data": {
      "text/plain": [
       "16"
      ]
     },
     "execution_count": 7,
     "metadata": {},
     "output_type": "execute_result"
    }
   ],
   "source": [
    "def iterativa(t, k):\n",
    "    while t <= 100:\n",
    "        t+=k\n",
    "        k+=1\n",
    "    return k\n",
    "\n",
    "iterativa(1,5)"
   ]
  },
  {
   "cell_type": "markdown",
   "metadata": {
    "id": "S_zEBM1d4wfm"
   },
   "source": [
    "**Ejercicio 6**\n",
    "\n",
    "Escribir una función recursiva que calcule recursivamente el n-ésimo número triangular (el número 1 + 2 + 3 + ⋯ + n)."
   ]
  },
  {
   "cell_type": "code",
   "execution_count": 10,
   "metadata": {},
   "outputs": [
    {
     "data": {
      "text/plain": [
       "15"
      ]
     },
     "execution_count": 10,
     "metadata": {},
     "output_type": "execute_result"
    }
   ],
   "source": [
    "def triangular(n: int):\n",
    "    if n == 1:\n",
    "        return 1\n",
    "    else:\n",
    "        return n + triangular(n - 1)\n",
    "triangular(5)"
   ]
  },
  {
   "cell_type": "markdown",
   "metadata": {
    "id": "NcFbTBst0k9h"
   },
   "source": [
    "**Ejercicio 7**\n",
    "\n",
    "Escribir una función recursiva que reciba un número positivo n y devuelva la cantidad de dígitos que tiene."
   ]
  },
  {
   "cell_type": "code",
   "execution_count": 18,
   "metadata": {},
   "outputs": [
    {
     "data": {
      "text/plain": [
       "5"
      ]
     },
     "execution_count": 18,
     "metadata": {},
     "output_type": "execute_result"
    }
   ],
   "source": [
    "def digitos(n):\n",
    "    num = str(n)\n",
    "    if len(num) == 1:\n",
    "        return 1\n",
    "    else:\n",
    "        return 1 + digitos(num[1:])\n",
    "    \n",
    "digitos(80000)"
   ]
  },
  {
   "cell_type": "markdown",
   "metadata": {
    "id": "GqKV9CUUlPMJ"
   },
   "source": [
    "**Ejercicio 8**\n",
    "\n",
    "Convierta la siguiente función iterativa a una recursiva."
   ]
  },
  {
   "cell_type": "code",
   "execution_count": 19,
   "metadata": {
    "id": "NYXBEtDdmBvl"
   },
   "outputs": [
    {
     "data": {
      "text/plain": [
       "6"
      ]
     },
     "execution_count": 19,
     "metadata": {},
     "output_type": "execute_result"
    }
   ],
   "source": [
    "def iterativa(l: list[int]) -> int:\n",
    "  c = 1\n",
    "  for i in l:\n",
    "    c = c * i\n",
    "  return c\n",
    "\n",
    "iterativa([1,2,3])"
   ]
  },
  {
   "cell_type": "code",
   "execution_count": 26,
   "metadata": {},
   "outputs": [
    {
     "data": {
      "text/plain": [
       "6"
      ]
     },
     "execution_count": 26,
     "metadata": {},
     "output_type": "execute_result"
    }
   ],
   "source": [
    "def recursiva(l: list[int]):\n",
    "    if len(l) == 1:\n",
    "        return l[0]\n",
    "    else:\n",
    "        return l[0] * recursiva(l[1:])\n",
    "\n",
    "recursiva([1, 2, 3])"
   ]
  },
  {
   "cell_type": "markdown",
   "metadata": {
    "id": "LnoHH96w5Boy"
   },
   "source": [
    "**Ejercicio 9** Escribir una funcion recursiva que encuentre el mayor elemento de una lista."
   ]
  },
  {
   "cell_type": "code",
   "execution_count": 2,
   "metadata": {},
   "outputs": [
    {
     "data": {
      "text/plain": [
       "5"
      ]
     },
     "execution_count": 2,
     "metadata": {},
     "output_type": "execute_result"
    }
   ],
   "source": [
    "def mayor_elem(lista):\n",
    "    if len(lista) == 1:\n",
    "        return lista[0]\n",
    "    else:\n",
    "        mayor_temp = mayor_elem(lista[1:])\n",
    "        return lista[0] if lista[0] > mayor_temp else mayor_temp\n",
    "\n",
    "mayor_elem([1,3,2,5,4])"
   ]
  },
  {
   "cell_type": "markdown",
   "metadata": {
    "id": "7Wvp-pzzmiqT"
   },
   "source": [
    "**Ejercicio 10**\n",
    "\n",
    "Dibuje el árbol de llamadas de `llamadas(3)`, y escriba para cada llamada el valor de su `n`, su resultado, y el orden en que se ejecuta en la máquina."
   ]
  },
  {
   "cell_type": "code",
   "execution_count": 3,
   "metadata": {
    "id": "0JR39xkAmqFM"
   },
   "outputs": [
    {
     "data": {
      "text/plain": [
       "9"
      ]
     },
     "execution_count": 3,
     "metadata": {},
     "output_type": "execute_result"
    }
   ],
   "source": [
    "def llamadas(n: int) -> int:\n",
    "  if n <= 0:\n",
    "    return 1\n",
    "\n",
    "  cantidad1 = llamadas(n - 1)\n",
    "  cantidad2 = llamadas(n - 2)\n",
    "\n",
    "  return cantidad1 + cantidad2 + 1\n",
    "\n",
    "llamadas(3)"
   ]
  },
  {
   "cell_type": "markdown",
   "metadata": {},
   "source": [
    "                     ll(3)  \n",
    "                /           \\\n",
    "    ll(2) [5]                ll(1)  [3]   \n",
    "    /      \\                   /  \\\n",
    "    ll(1)  ll(0)           ll(0)     -\n",
    "    /    \\\n",
    "    ll(0)  -\n",
    "\n",
    "5 + 3 + 1 = 9"
   ]
  },
  {
   "cell_type": "markdown",
   "metadata": {
    "id": "iwkC8qNp1MLv"
   },
   "source": [
    "**Ejercicio 11** Escribir una función recursiva que reciba 2 enteros n y b y devuelva True si n es potencia de b.\n",
    "\n",
    "**Ejemplos**:\n",
    "- es_potencia(8, 2) -> True\n",
    "- es_potencia(64, 4) -> True\n",
    "- es_potencia(70, 10) -> False"
   ]
  },
  {
   "cell_type": "code",
   "execution_count": 8,
   "metadata": {},
   "outputs": [
    {
     "data": {
      "text/plain": [
       "False"
      ]
     },
     "execution_count": 8,
     "metadata": {},
     "output_type": "execute_result"
    }
   ],
   "source": [
    "def es_potencia(n, b):\n",
    "    if n == b:\n",
    "        return True\n",
    "    if n < b or n%b != 0: # caso base\n",
    "        return False\n",
    "    else:\n",
    "        return es_potencia(n/b, b)\n",
    "    \n",
    "es_potencia(70,10)"
   ]
  },
  {
   "cell_type": "markdown",
   "metadata": {
    "id": "6dO9EqZ_qsGJ"
   },
   "source": [
    "# Ejercicios Adicionales"
   ]
  },
  {
   "cell_type": "markdown",
   "metadata": {
    "id": "3Xgvx8UH5oIZ"
   },
   "source": [
    "**Ejercicio 12** Escribir una función recursiva para replicar los elementos de una lista una cantidad n de veces. Por ejemplo:\n",
    "- replicar([1, 3, 3, 7], 2) -> ([1, 1, 3, 3, 3, 3, 7, 7])"
   ]
  },
  {
   "cell_type": "code",
   "execution_count": 14,
   "metadata": {},
   "outputs": [
    {
     "data": {
      "text/plain": [
       "[1, 1, 2, 2, 3, 3]"
      ]
     },
     "execution_count": 14,
     "metadata": {},
     "output_type": "execute_result"
    }
   ],
   "source": [
    "def replicar(lista, rep):\n",
    "    if len(lista) == 0:\n",
    "        return [] # caso base -> corta cuando ya se termine de recorrer la lista\n",
    "    return [lista[0]] * rep + replicar(lista[1:], rep)\n",
    "\n",
    "replicar([1,2,3],2)"
   ]
  },
  {
   "cell_type": "markdown",
   "metadata": {
    "id": "9mXgr_gQRWiH"
   },
   "source": [
    "**Ejercicio 13** Escriba una funcion que tome una lista y devuelva esa misma lista en orden inverso. Realice dos versiones:\n",
    "\n",
    "* `reversaR` que resuelva utilizando recursión.\n",
    "* `reversaI` que resuelva utilizando iteración."
   ]
  },
  {
   "cell_type": "code",
   "execution_count": 20,
   "metadata": {},
   "outputs": [
    {
     "data": {
      "text/plain": [
       "[3, 2, 1]"
      ]
     },
     "execution_count": 20,
     "metadata": {},
     "output_type": "execute_result"
    }
   ],
   "source": [
    "def reversaR(lista):\n",
    "    if len(lista) == 0:\n",
    "        return []\n",
    "    return [lista[-1]] + reversaR(lista[:-1])\n",
    "\n",
    "reversaR([1,2,3])"
   ]
  },
  {
   "cell_type": "code",
   "execution_count": 29,
   "metadata": {},
   "outputs": [
    {
     "data": {
      "text/plain": [
       "[5, 4, 3, 2, 1]"
      ]
     },
     "execution_count": 29,
     "metadata": {},
     "output_type": "execute_result"
    }
   ],
   "source": [
    "def reversaI(lista):\n",
    "    lista_rev = []\n",
    "    orden = -1\n",
    "    for i in lista:\n",
    "        lista_rev.insert(orden,i)\n",
    "        orden -= 1\n",
    "    return lista_rev\n",
    "\n",
    "reversaI([1,2,3,4,5])        "
   ]
  },
  {
   "cell_type": "markdown",
   "metadata": {
    "id": "R_MVS9FV2p2_"
   },
   "source": [
    "**Ejercicio 14** Escribir una funcion recursiva que reciba como parámetros dos cadenas a y b, y encuentre la posicion de la primer ocurrencia de b como subcadena de a\n",
    "\n",
    "**Ejemplo**:\n",
    "- posicion_de(\"Un tete a tete con Tete\", \"te\") -> 3\n",
    "- posicion_de(\"Un tete a tete con Tete\", \"Te\") -> 19\n",
    "\n",
    "**Ayuda**\n",
    "- Puede ser de utilidad el método de `str.startswith` que nos dice si una cadena empieza con una subcadena dada. Puede leer mas sobre este método en la [documentacion oficial](https://docs.python.org/3/library/stdtypes.html?highlight=startswith#str.startswith)"
   ]
  },
  {
   "cell_type": "code",
   "execution_count": null,
   "metadata": {},
   "outputs": [],
   "source": [
    "def posicion_de(txt, sub):\n",
    "    if len(lista) == 0:\n",
    "        return []\n",
    "    # Completar"
   ]
  },
  {
   "cell_type": "markdown",
   "metadata": {
    "id": "zaR3YsHi7SaA"
   },
   "source": [
    "## Recursión con wrappers\n",
    "\n",
    "Al diseñar funciones recursivas muchas veces puede ser útil implementar una función **wrapper**, por ejemplo para cambiar los valores que hay que tomar, validar parámetros, inicializar datos o manejar excepciones.\n",
    "\n",
    "Se utiliza una función recursiva, llamada funcion auxiliar, como base y luego una funcion no recursiva, llamada wrapper, que utiliza la funcion auxiliar para resolver lo pedido.\n",
    "\n",
    "Por ejemplo, si necesitamos escribir una función recursiva para calcular el promedio, puede no ser evidente como hacerlo:\n",
    "\n",
    "```python\n",
    "def promediar(lista: list[float]) -> float:\n",
    "  if len(lista) == 0:\n",
    "    return ???\n",
    "  promediar(lista[1:]) ???\n",
    "```\n",
    "\n",
    "Para calcular un promedio necesitamos computar tanto una suma como contar la cantidad de elementos. Podemos hacerlo con una función auxiliar\n",
    "\n",
    "```python\n",
    "def _promediar(lista: list[float]) -> int, float:\n",
    "  if len(lista) == 0:\n",
    "    return 0, 0\n",
    "  cant, suma = promediar(lista[1:])\n",
    "  return cant +1, suma + lista[0]\n",
    "\n",
    "def promediar(lista: list[float]) -> float:\n",
    "  cant, suma = _promediar(lista)\n",
    "  return suma / cant\n",
    "```"
   ]
  },
  {
   "cell_type": "markdown",
   "metadata": {
    "id": "--lq2ot56HOe"
   },
   "source": [
    "**Ejercicio 15** Escribir una funcion recursiva que dada una cadena determine si en la misma hay más letras A o letras E. Utilizar una funcion auxiliar."
   ]
  },
  {
   "cell_type": "markdown",
   "metadata": {
    "id": "3dx3RMhe_ZTc"
   },
   "source": [
    "**Ejercicio 16** Escriba una función `potencia(b,n) que calcule la potencia para cualquier n entero, incluso si n es negativa. Utilizar una funcion auxiliar."
   ]
  },
  {
   "cell_type": "markdown",
   "metadata": {
    "id": "XD295CPgAQ0D"
   },
   "source": [
    "**Ejercicio 17** Ya sabemos que la implementación recursiva del cálculo del número de Fibonacci (Fn = Fn−1 + Fn−2, F0 = 0, F1 = 1) es ineficiente porque muchas de las ramas calculan reiteradamente los mismos valores.\n",
    "\n",
    "Escribir una función fibonacci(n) que calcule el enésimo número de Fibonacci de forma recursiva pero que utilice un diccionario para almacenar los valores ya computados y no computarlos más de una vez.\n",
    "\n",
    "**Nota**: Será necesario implementar una función wrapper para cumplir con la firma de la función pedida."
   ]
  }
 ],
 "metadata": {
  "colab": {
   "provenance": []
  },
  "kernelspec": {
   "display_name": "Python 3 (ipykernel)",
   "language": "python",
   "name": "python3"
  },
  "language_info": {
   "codemirror_mode": {
    "name": "ipython",
    "version": 3
   },
   "file_extension": ".py",
   "mimetype": "text/x-python",
   "name": "python",
   "nbconvert_exporter": "python",
   "pygments_lexer": "ipython3",
   "version": "3.11.5"
  }
 },
 "nbformat": 4,
 "nbformat_minor": 1
}
